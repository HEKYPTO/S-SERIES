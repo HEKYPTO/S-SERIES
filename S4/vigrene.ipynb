{
 "cells": [
  {
   "cell_type": "code",
   "execution_count": 8,
   "metadata": {},
   "outputs": [
    {
     "name": "stdout",
     "output_type": "stream",
     "text": [
      "Ciphertext: LTZEMJITMHMIFW\n",
      "Decrypted Text: ALEATIACTATEST\n"
     ]
    }
   ],
   "source": [
    "def vigenere_cipher(text, key, mode='encrypt'):\n",
    "    result = []\n",
    "    key = key.upper()\n",
    "    key_as_int = [ord(i) - 65 for i in key]  # Convert key to integers (0-25)\n",
    "    text_int = [ord(i) - 65 for i in text.upper()]  # Convert text to integers (0-25)\n",
    "    \n",
    "    for i in range(len(text_int)):\n",
    "        if mode == 'encrypt':\n",
    "            value = (text_int[i] + key_as_int[i % len(key)]) % 26\n",
    "        elif mode == 'decrypt':\n",
    "            value = (text_int[i] - key_as_int[i % len(key)]) % 26\n",
    "        result.append(chr(value + 65))  # Convert back to characters\n",
    "    \n",
    "    return ''.join(result)\n",
    "\n",
    "plaintext = \"ALEA IACTA EST\"\n",
    "key = \"LIVE BIRTH END\"\n",
    "\n",
    "ciphertext = vigenere_cipher(plaintext, key, mode='encrypt')\n",
    "print(f\"Ciphertext: {ciphertext}\")\n",
    "\n",
    "decrypted_text = vigenere_cipher(ciphertext, key, mode='decrypt')\n",
    "print(f\"Decrypted Text: {decrypted_text}\")\n"
   ]
  },
  {
   "cell_type": "code",
   "execution_count": 9,
   "metadata": {},
   "outputs": [
    {
     "name": "stdout",
     "output_type": "stream",
     "text": [
      "Key: CAESAR\n",
      "Ciphertext: YLAI RYCPI NQT\n"
     ]
    }
   ],
   "source": [
    "def vigenere_cipher(text, key, encrypt=True):\n",
    "    def shift_character(c, k, encrypt):\n",
    "        offset = ord('A') if c.isupper() else ord('a')\n",
    "        if encrypt:\n",
    "            return chr((ord(c) - offset + k) % 26 + offset)\n",
    "        else:\n",
    "            return chr((ord(c) - offset - k) % 26 + offset)\n",
    "\n",
    "    key = key.upper()\n",
    "    key_indices = [ord(k) - ord('A') for k in key]\n",
    "    result = []\n",
    "\n",
    "    for i, char in enumerate(text):\n",
    "        if char.isalpha():\n",
    "            k = key_indices[i % len(key)]\n",
    "            result.append(shift_character(char, k, encrypt))\n",
    "        else:\n",
    "            result.append(char)\n",
    "\n",
    "    return ''.join(result)\n",
    "\n",
    "plaintext = \"ALEA IACTA EST\"\n",
    "key = \"CAESAR\"\n",
    "ciphertext = vigenere_cipher(plaintext, key, encrypt=False)\n",
    "\n",
    "print(f\"Key: {key}\")\n",
    "print(f\"Ciphertext: {ciphertext}\")\n"
   ]
  },
  {
   "cell_type": "code",
   "execution_count": 16,
   "metadata": {},
   "outputs": [
    {
     "name": "stdout",
     "output_type": "stream",
     "text": [
      "Encrypted: CLIS ZCCXS VUT\n",
      "Decrypted: ALEA IACTA EST\n"
     ]
    }
   ],
   "source": [
    "def vigenere(text: str, key: str, encrypt=True) -> str:\n",
    "    result = ''\n",
    "    key = key.upper()\n",
    "    text = text.upper()\n",
    "\n",
    "    for i in range(len(text)):\n",
    "        if text[i].isalpha():  \n",
    "            letter_n = ord(text[i]) - ord('A')\n",
    "            key_n = ord(key[i % len(key)]) - ord('A')\n",
    "\n",
    "            if encrypt:\n",
    "                value = (letter_n + key_n) % 26\n",
    "            else:\n",
    "                value = (letter_n - key_n) % 26\n",
    "\n",
    "            result += chr(value + ord('A'))\n",
    "        else:\n",
    "            result += text[i] \n",
    "\n",
    "    return result\n",
    "\n",
    "def vigenere_encrypt(text: str, key: str) -> str:\n",
    "    return vigenere(text=text, key=key, encrypt=True)\n",
    "\n",
    "def vigenere_decrypt(text: str, key: str) -> str:\n",
    "    return vigenere(text=text, key=key, encrypt=False)\n",
    "\n",
    "KEY = \"CAESAR\"\n",
    "TEXT = \"ALEA IACTA EST\"\n",
    "\n",
    "encrypted = vigenere_encrypt(TEXT, KEY)\n",
    "decrypted = vigenere_decrypt(encrypted, KEY)\n",
    "\n",
    "print(f\"Encrypted: {encrypted}\")\n",
    "print(f\"Decrypted: {decrypted}\")\n"
   ]
  },
  {
   "cell_type": "code",
   "execution_count": 17,
   "metadata": {},
   "outputs": [
    {
     "data": {
      "text/plain": [
       "'CLIS ZCCXS VUT'"
      ]
     },
     "execution_count": 17,
     "metadata": {},
     "output_type": "execute_result"
    }
   ],
   "source": [
    "KEY = \"CAESAR\"\n",
    "TEXT = \"ALEA IACTA EST\"\n",
    "\n",
    "vigenere(TEXT, KEY)"
   ]
  },
  {
   "cell_type": "code",
   "execution_count": 19,
   "metadata": {},
   "outputs": [
    {
     "name": "stdout",
     "output_type": "stream",
     "text": [
      "Encrypted: CLIS ZCCXS VUT\n",
      "Decrypted: ALEA IACTA EST\n"
     ]
    }
   ],
   "source": [
    "def vigenere(text: str, key: str, encrypt=True) -> str:\n",
    "    key = key.upper()\n",
    "    len(key) = len(key)\n",
    "    shift = lambda c, k: chr((ord(c) - ord('A') + k) % 26 + ord('A'))\n",
    "    return ''.join(\n",
    "        shift(c, ord(key[i % len(key)]) - ord('A')) \n",
    "        if c.isalpha() else c\n",
    "        for i, c in enumerate(text.upper())\n",
    "    ) if encrypt else ''.join(\n",
    "        shift(c, - (ord(key[i % len(key)]) - ord('A'))) \n",
    "        if c.isalpha() else c\n",
    "        for i, c in enumerate(text.upper())\n",
    "    )\n",
    "\n",
    "def vigenere_encrypt(text: str, key: str) -> str:\n",
    "    return vigenere(text, key, True)\n",
    "\n",
    "def vigenere_decrypt(text: str, key: str) -> str:\n",
    "    return vigenere(text, key, False)\n",
    "\n",
    "KEY = \"CAESAR\"\n",
    "TEXT = \"ALEA IACTA EST\"\n",
    "\n",
    "encrypted = vigenere_encrypt(TEXT, KEY)\n",
    "decrypted = vigenere_decrypt(encrypted, KEY)\n",
    "\n",
    "print(f\"Encrypted: {encrypted}\")\n",
    "print(f\"Decrypted: {decrypted}\")"
   ]
  },
  {
   "cell_type": "code",
   "execution_count": 20,
   "metadata": {},
   "outputs": [
    {
     "name": "stdout",
     "output_type": "stream",
     "text": [
      "Encrypted: NIOZFNKXR\n",
      "Decrypted: COMPUTING\n"
     ]
    }
   ],
   "source": [
    "KEY = \"LUCKLUCK\"\n",
    "TEXT = \"COMPUTING\"\n",
    "\n",
    "encrypted = vigenere_encrypt(TEXT, KEY)\n",
    "decrypted = vigenere_decrypt(encrypted, KEY)\n",
    "\n",
    "print(f\"Encrypted: {encrypted}\")\n",
    "print(f\"Decrypted: {decrypted}\")"
   ]
  },
  {
   "cell_type": "code",
   "execution_count": 26,
   "metadata": {},
   "outputs": [
    {
     "name": "stdout",
     "output_type": "stream",
     "text": [
      "Encrypted: NIOZFNKXR\n",
      "Decrypted: COMPUTING\n"
     ]
    }
   ],
   "source": [
    "def vigenere(text: str, key: str, encrypt=True) -> str:\n",
    "    key = key.upper()\n",
    "    key_indices = [ord(k) - ord('A') for k in key]\n",
    "    shift = lambda c, k: chr((ord(c) - ord('A') + k) % 26 + ord('A'))\n",
    "    \n",
    "    return ''.join(\n",
    "        shift(c, key_indices[i % len(key)] if encrypt else -key_indices[i % len(key)])\n",
    "        if c.isalpha() else c\n",
    "        for i, c in enumerate(text.upper())\n",
    "    )\n",
    "\n",
    "KEY = \"LUCKLUCK\"\n",
    "TEXT = \"COMPUTING\"\n",
    "\n",
    "encrypted = vigenere(TEXT, KEY)\n",
    "decrypted = vigenere(encrypted, KEY, encrypt=False)\n",
    "\n",
    "print(f\"Encrypted: {encrypted}\")\n",
    "print(f\"Decrypted: {decrypted}\")\n"
   ]
  }
 ],
 "metadata": {
  "kernelspec": {
   "display_name": "VENV",
   "language": "python",
   "name": "python3"
  },
  "language_info": {
   "codemirror_mode": {
    "name": "ipython",
    "version": 3
   },
   "file_extension": ".py",
   "mimetype": "text/x-python",
   "name": "python",
   "nbconvert_exporter": "python",
   "pygments_lexer": "ipython3",
   "version": "3.11.9"
  }
 },
 "nbformat": 4,
 "nbformat_minor": 2
}
